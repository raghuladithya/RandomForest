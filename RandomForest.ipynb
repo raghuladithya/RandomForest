{
 "cells": [
  {
   "cell_type": "code",
   "execution_count": 38,
   "metadata": {},
   "outputs": [],
   "source": [
    "import numpy as np\n",
    "import pandas as pd\n",
    "import seaborn as sns\n",
    "import matplotlib.pyplot as plt"
   ]
  },
  {
   "cell_type": "code",
   "execution_count": 39,
   "metadata": {},
   "outputs": [],
   "source": [
    "cr = pd.read_csv('CreditRisk.csv')"
   ]
  },
  {
   "cell_type": "code",
   "execution_count": 40,
   "metadata": {},
   "outputs": [
    {
     "data": {
      "text/html": [
       "<div>\n",
       "<style scoped>\n",
       "    .dataframe tbody tr th:only-of-type {\n",
       "        vertical-align: middle;\n",
       "    }\n",
       "\n",
       "    .dataframe tbody tr th {\n",
       "        vertical-align: top;\n",
       "    }\n",
       "\n",
       "    .dataframe thead th {\n",
       "        text-align: right;\n",
       "    }\n",
       "</style>\n",
       "<table border=\"1\" class=\"dataframe\">\n",
       "  <thead>\n",
       "    <tr style=\"text-align: right;\">\n",
       "      <th></th>\n",
       "      <th>Loan_ID</th>\n",
       "      <th>Gender</th>\n",
       "      <th>Married</th>\n",
       "      <th>Dependents</th>\n",
       "      <th>Education</th>\n",
       "      <th>Self_Employed</th>\n",
       "      <th>ApplicantIncome</th>\n",
       "      <th>CoapplicantIncome</th>\n",
       "      <th>LoanAmount</th>\n",
       "      <th>Loan_Amount_Term</th>\n",
       "      <th>Credit_History</th>\n",
       "      <th>Property_Area</th>\n",
       "      <th>Loan_Status</th>\n",
       "    </tr>\n",
       "  </thead>\n",
       "  <tbody>\n",
       "    <tr>\n",
       "      <th>0</th>\n",
       "      <td>LP001002</td>\n",
       "      <td>Male</td>\n",
       "      <td>No</td>\n",
       "      <td>0.0</td>\n",
       "      <td>Graduate</td>\n",
       "      <td>No</td>\n",
       "      <td>5849</td>\n",
       "      <td>0.0</td>\n",
       "      <td>NaN</td>\n",
       "      <td>360.0</td>\n",
       "      <td>1.0</td>\n",
       "      <td>Urban</td>\n",
       "      <td>Y</td>\n",
       "    </tr>\n",
       "    <tr>\n",
       "      <th>1</th>\n",
       "      <td>LP001003</td>\n",
       "      <td>Male</td>\n",
       "      <td>Yes</td>\n",
       "      <td>1.0</td>\n",
       "      <td>Graduate</td>\n",
       "      <td>No</td>\n",
       "      <td>4583</td>\n",
       "      <td>1508.0</td>\n",
       "      <td>128.0</td>\n",
       "      <td>360.0</td>\n",
       "      <td>1.0</td>\n",
       "      <td>Rural</td>\n",
       "      <td>N</td>\n",
       "    </tr>\n",
       "    <tr>\n",
       "      <th>2</th>\n",
       "      <td>LP001005</td>\n",
       "      <td>Male</td>\n",
       "      <td>Yes</td>\n",
       "      <td>0.0</td>\n",
       "      <td>Graduate</td>\n",
       "      <td>Yes</td>\n",
       "      <td>3000</td>\n",
       "      <td>0.0</td>\n",
       "      <td>66.0</td>\n",
       "      <td>360.0</td>\n",
       "      <td>1.0</td>\n",
       "      <td>Urban</td>\n",
       "      <td>Y</td>\n",
       "    </tr>\n",
       "    <tr>\n",
       "      <th>3</th>\n",
       "      <td>LP001006</td>\n",
       "      <td>Male</td>\n",
       "      <td>Yes</td>\n",
       "      <td>0.0</td>\n",
       "      <td>Not Graduate</td>\n",
       "      <td>No</td>\n",
       "      <td>2583</td>\n",
       "      <td>2358.0</td>\n",
       "      <td>120.0</td>\n",
       "      <td>360.0</td>\n",
       "      <td>1.0</td>\n",
       "      <td>Urban</td>\n",
       "      <td>Y</td>\n",
       "    </tr>\n",
       "    <tr>\n",
       "      <th>4</th>\n",
       "      <td>LP001008</td>\n",
       "      <td>Male</td>\n",
       "      <td>No</td>\n",
       "      <td>0.0</td>\n",
       "      <td>Graduate</td>\n",
       "      <td>No</td>\n",
       "      <td>6000</td>\n",
       "      <td>0.0</td>\n",
       "      <td>141.0</td>\n",
       "      <td>360.0</td>\n",
       "      <td>1.0</td>\n",
       "      <td>Urban</td>\n",
       "      <td>Y</td>\n",
       "    </tr>\n",
       "  </tbody>\n",
       "</table>\n",
       "</div>"
      ],
      "text/plain": [
       "    Loan_ID Gender Married  Dependents     Education Self_Employed  \\\n",
       "0  LP001002   Male      No         0.0      Graduate            No   \n",
       "1  LP001003   Male     Yes         1.0      Graduate            No   \n",
       "2  LP001005   Male     Yes         0.0      Graduate           Yes   \n",
       "3  LP001006   Male     Yes         0.0  Not Graduate            No   \n",
       "4  LP001008   Male      No         0.0      Graduate            No   \n",
       "\n",
       "   ApplicantIncome  CoapplicantIncome  LoanAmount  Loan_Amount_Term  \\\n",
       "0             5849                0.0         NaN             360.0   \n",
       "1             4583             1508.0       128.0             360.0   \n",
       "2             3000                0.0        66.0             360.0   \n",
       "3             2583             2358.0       120.0             360.0   \n",
       "4             6000                0.0       141.0             360.0   \n",
       "\n",
       "   Credit_History Property_Area Loan_Status  \n",
       "0             1.0         Urban           Y  \n",
       "1             1.0         Rural           N  \n",
       "2             1.0         Urban           Y  \n",
       "3             1.0         Urban           Y  \n",
       "4             1.0         Urban           Y  "
      ]
     },
     "execution_count": 40,
     "metadata": {},
     "output_type": "execute_result"
    }
   ],
   "source": [
    "cr.head()"
   ]
  },
  {
   "cell_type": "code",
   "execution_count": 41,
   "metadata": {},
   "outputs": [
    {
     "data": {
      "text/plain": [
       "(981, 13)"
      ]
     },
     "execution_count": 41,
     "metadata": {},
     "output_type": "execute_result"
    }
   ],
   "source": [
    "cr.shape"
   ]
  },
  {
   "cell_type": "code",
   "execution_count": 42,
   "metadata": {},
   "outputs": [
    {
     "data": {
      "text/plain": [
       "Loan_ID               0\n",
       "Gender               24\n",
       "Married               3\n",
       "Dependents           25\n",
       "Education             0\n",
       "Self_Employed        55\n",
       "ApplicantIncome       0\n",
       "CoapplicantIncome     0\n",
       "LoanAmount           27\n",
       "Loan_Amount_Term     20\n",
       "Credit_History       79\n",
       "Property_Area         0\n",
       "Loan_Status           0\n",
       "dtype: int64"
      ]
     },
     "execution_count": 42,
     "metadata": {},
     "output_type": "execute_result"
    }
   ],
   "source": [
    "cr.isnull().sum()"
   ]
  },
  {
   "cell_type": "code",
   "execution_count": 43,
   "metadata": {},
   "outputs": [],
   "source": [
    "cr.Gender = cr.Gender.fillna('Male')"
   ]
  },
  {
   "cell_type": "code",
   "execution_count": 44,
   "metadata": {},
   "outputs": [],
   "source": [
    "cr.Self_Employed = cr.Self_Employed.fillna('Yes')"
   ]
  },
  {
   "cell_type": "code",
   "execution_count": 45,
   "metadata": {},
   "outputs": [],
   "source": [
    "cr.Credit_History = cr.Credit_History.fillna(0)"
   ]
  },
  {
   "cell_type": "code",
   "execution_count": 46,
   "metadata": {},
   "outputs": [],
   "source": [
    "cr.Dependents = cr.Dependents.fillna(0)"
   ]
  },
  {
   "cell_type": "code",
   "execution_count": 47,
   "metadata": {},
   "outputs": [],
   "source": [
    "cr.LoanAmount = cr.LoanAmount.fillna(cr.LoanAmount.mean())"
   ]
  },
  {
   "cell_type": "code",
   "execution_count": 48,
   "metadata": {},
   "outputs": [],
   "source": [
    "cr.Loan_Amount_Term = cr.Loan_Amount_Term.fillna(cr.Loan_Amount_Term.mean())"
   ]
  },
  {
   "cell_type": "code",
   "execution_count": 49,
   "metadata": {},
   "outputs": [],
   "source": [
    "cr.Married = cr.Married.fillna('Yes')"
   ]
  },
  {
   "cell_type": "code",
   "execution_count": 50,
   "metadata": {},
   "outputs": [
    {
     "data": {
      "text/plain": [
       "Loan_ID              0\n",
       "Gender               0\n",
       "Married              0\n",
       "Dependents           0\n",
       "Education            0\n",
       "Self_Employed        0\n",
       "ApplicantIncome      0\n",
       "CoapplicantIncome    0\n",
       "LoanAmount           0\n",
       "Loan_Amount_Term     0\n",
       "Credit_History       0\n",
       "Property_Area        0\n",
       "Loan_Status          0\n",
       "dtype: int64"
      ]
     },
     "execution_count": 50,
     "metadata": {},
     "output_type": "execute_result"
    }
   ],
   "source": [
    "cr.isnull().sum()"
   ]
  },
  {
   "cell_type": "code",
   "execution_count": 51,
   "metadata": {},
   "outputs": [],
   "source": [
    "cr.Gender.replace({\"Male\":1, \"Female\":0}, inplace = True)\n",
    "cr.Married.replace({\"No\":0, \"Yes\": 1}, inplace = True)\n",
    "cr.Education.replace({\"Graduate\": 1, \"Not Graduate\": 0}, inplace = True)\n",
    "cr.Self_Employed.replace({\"No\": 0, \"Yes\": 1}, inplace = True)\n",
    "cr.Property_Area.replace({\"Semiurban\" : 1, \"Urban\": 2, \"Rural\": 3}, inplace = True)\n",
    "cr.Loan_Status.replace({'Y': 1, \"N\":0}, inplace = True)"
   ]
  },
  {
   "cell_type": "code",
   "execution_count": 52,
   "metadata": {},
   "outputs": [
    {
     "data": {
      "text/html": [
       "<div>\n",
       "<style scoped>\n",
       "    .dataframe tbody tr th:only-of-type {\n",
       "        vertical-align: middle;\n",
       "    }\n",
       "\n",
       "    .dataframe tbody tr th {\n",
       "        vertical-align: top;\n",
       "    }\n",
       "\n",
       "    .dataframe thead th {\n",
       "        text-align: right;\n",
       "    }\n",
       "</style>\n",
       "<table border=\"1\" class=\"dataframe\">\n",
       "  <thead>\n",
       "    <tr style=\"text-align: right;\">\n",
       "      <th></th>\n",
       "      <th>Loan_ID</th>\n",
       "      <th>Gender</th>\n",
       "      <th>Married</th>\n",
       "      <th>Dependents</th>\n",
       "      <th>Education</th>\n",
       "      <th>Self_Employed</th>\n",
       "      <th>ApplicantIncome</th>\n",
       "      <th>CoapplicantIncome</th>\n",
       "      <th>LoanAmount</th>\n",
       "      <th>Loan_Amount_Term</th>\n",
       "      <th>Credit_History</th>\n",
       "      <th>Property_Area</th>\n",
       "      <th>Loan_Status</th>\n",
       "    </tr>\n",
       "  </thead>\n",
       "  <tbody>\n",
       "    <tr>\n",
       "      <th>0</th>\n",
       "      <td>LP001002</td>\n",
       "      <td>1</td>\n",
       "      <td>0</td>\n",
       "      <td>0.0</td>\n",
       "      <td>1</td>\n",
       "      <td>0</td>\n",
       "      <td>5849</td>\n",
       "      <td>0.0</td>\n",
       "      <td>142.51153</td>\n",
       "      <td>360.0</td>\n",
       "      <td>1.0</td>\n",
       "      <td>2</td>\n",
       "      <td>1</td>\n",
       "    </tr>\n",
       "    <tr>\n",
       "      <th>1</th>\n",
       "      <td>LP001003</td>\n",
       "      <td>1</td>\n",
       "      <td>1</td>\n",
       "      <td>1.0</td>\n",
       "      <td>1</td>\n",
       "      <td>0</td>\n",
       "      <td>4583</td>\n",
       "      <td>1508.0</td>\n",
       "      <td>128.00000</td>\n",
       "      <td>360.0</td>\n",
       "      <td>1.0</td>\n",
       "      <td>3</td>\n",
       "      <td>0</td>\n",
       "    </tr>\n",
       "    <tr>\n",
       "      <th>2</th>\n",
       "      <td>LP001005</td>\n",
       "      <td>1</td>\n",
       "      <td>1</td>\n",
       "      <td>0.0</td>\n",
       "      <td>1</td>\n",
       "      <td>1</td>\n",
       "      <td>3000</td>\n",
       "      <td>0.0</td>\n",
       "      <td>66.00000</td>\n",
       "      <td>360.0</td>\n",
       "      <td>1.0</td>\n",
       "      <td>2</td>\n",
       "      <td>1</td>\n",
       "    </tr>\n",
       "    <tr>\n",
       "      <th>3</th>\n",
       "      <td>LP001006</td>\n",
       "      <td>1</td>\n",
       "      <td>1</td>\n",
       "      <td>0.0</td>\n",
       "      <td>0</td>\n",
       "      <td>0</td>\n",
       "      <td>2583</td>\n",
       "      <td>2358.0</td>\n",
       "      <td>120.00000</td>\n",
       "      <td>360.0</td>\n",
       "      <td>1.0</td>\n",
       "      <td>2</td>\n",
       "      <td>1</td>\n",
       "    </tr>\n",
       "    <tr>\n",
       "      <th>4</th>\n",
       "      <td>LP001008</td>\n",
       "      <td>1</td>\n",
       "      <td>0</td>\n",
       "      <td>0.0</td>\n",
       "      <td>1</td>\n",
       "      <td>0</td>\n",
       "      <td>6000</td>\n",
       "      <td>0.0</td>\n",
       "      <td>141.00000</td>\n",
       "      <td>360.0</td>\n",
       "      <td>1.0</td>\n",
       "      <td>2</td>\n",
       "      <td>1</td>\n",
       "    </tr>\n",
       "  </tbody>\n",
       "</table>\n",
       "</div>"
      ],
      "text/plain": [
       "    Loan_ID  Gender  Married  Dependents  Education  Self_Employed  \\\n",
       "0  LP001002       1        0         0.0          1              0   \n",
       "1  LP001003       1        1         1.0          1              0   \n",
       "2  LP001005       1        1         0.0          1              1   \n",
       "3  LP001006       1        1         0.0          0              0   \n",
       "4  LP001008       1        0         0.0          1              0   \n",
       "\n",
       "   ApplicantIncome  CoapplicantIncome  LoanAmount  Loan_Amount_Term  \\\n",
       "0             5849                0.0   142.51153             360.0   \n",
       "1             4583             1508.0   128.00000             360.0   \n",
       "2             3000                0.0    66.00000             360.0   \n",
       "3             2583             2358.0   120.00000             360.0   \n",
       "4             6000                0.0   141.00000             360.0   \n",
       "\n",
       "   Credit_History  Property_Area  Loan_Status  \n",
       "0             1.0              2            1  \n",
       "1             1.0              3            0  \n",
       "2             1.0              2            1  \n",
       "3             1.0              2            1  \n",
       "4             1.0              2            1  "
      ]
     },
     "execution_count": 52,
     "metadata": {},
     "output_type": "execute_result"
    }
   ],
   "source": [
    "cr.head()"
   ]
  },
  {
   "cell_type": "code",
   "execution_count": 53,
   "metadata": {},
   "outputs": [
    {
     "data": {
      "text/plain": [
       "Loan_ID              0\n",
       "Gender               0\n",
       "Married              0\n",
       "Dependents           0\n",
       "Education            0\n",
       "Self_Employed        0\n",
       "ApplicantIncome      0\n",
       "CoapplicantIncome    0\n",
       "LoanAmount           0\n",
       "Loan_Amount_Term     0\n",
       "Credit_History       0\n",
       "Property_Area        0\n",
       "Loan_Status          0\n",
       "dtype: int64"
      ]
     },
     "execution_count": 53,
     "metadata": {},
     "output_type": "execute_result"
    }
   ],
   "source": [
    "cr.isnull().sum()"
   ]
  },
  {
   "cell_type": "code",
   "execution_count": 54,
   "metadata": {},
   "outputs": [],
   "source": [
    "cr_x = cr.iloc[: , 1:12]\n",
    "cr_y = cr.iloc[:, -1]"
   ]
  },
  {
   "cell_type": "code",
   "execution_count": 55,
   "metadata": {},
   "outputs": [],
   "source": [
    "from sklearn.model_selection import train_test_split"
   ]
  },
  {
   "cell_type": "code",
   "execution_count": 56,
   "metadata": {},
   "outputs": [],
   "source": [
    "cr_x_train, cr_x_test, cr_y_train, cr_y_test = train_test_split(cr_x, cr_y, test_size = .2)"
   ]
  },
  {
   "cell_type": "code",
   "execution_count": 57,
   "metadata": {},
   "outputs": [
    {
     "name": "stdout",
     "output_type": "stream",
     "text": [
      "(784, 11)\n",
      "(784,)\n",
      "-----------------\n",
      "(197, 11)\n",
      "(197,)\n"
     ]
    }
   ],
   "source": [
    "print(cr_x_train.shape)\n",
    "print(cr_y_train.shape)\n",
    "print(\"-----------------\")\n",
    "print(cr_x_test.shape)\n",
    "print(cr_y_test.shape)"
   ]
  },
  {
   "cell_type": "code",
   "execution_count": 58,
   "metadata": {},
   "outputs": [],
   "source": [
    "from sklearn.linear_model import LogisticRegression"
   ]
  },
  {
   "cell_type": "code",
   "execution_count": 59,
   "metadata": {},
   "outputs": [
    {
     "name": "stderr",
     "output_type": "stream",
     "text": [
      "/Users/raghuladithya/opt/anaconda3/lib/python3.8/site-packages/sklearn/linear_model/_logistic.py:762: ConvergenceWarning: lbfgs failed to converge (status=1):\n",
      "STOP: TOTAL NO. of ITERATIONS REACHED LIMIT.\n",
      "\n",
      "Increase the number of iterations (max_iter) or scale the data as shown in:\n",
      "    https://scikit-learn.org/stable/modules/preprocessing.html\n",
      "Please also refer to the documentation for alternative solver options:\n",
      "    https://scikit-learn.org/stable/modules/linear_model.html#logistic-regression\n",
      "  n_iter_i = _check_optimize_result(\n"
     ]
    },
    {
     "data": {
      "text/plain": [
       "array([0, 0, 0, 1, 1, 0, 0, 1, 0, 1, 0, 1, 0, 1, 1, 1, 1, 1, 1, 1, 1, 1,\n",
       "       1, 1, 1, 1, 1, 0, 1, 1, 0, 0, 1, 0, 1, 1, 1, 1, 1, 1, 1, 1, 1, 1,\n",
       "       0, 1, 1, 1, 1, 0, 1, 1, 1, 1, 1, 0, 1, 1, 0, 1, 1, 1, 0, 1, 1, 1,\n",
       "       1, 0, 1, 1, 1, 1, 1, 1, 1, 0, 1, 1, 1, 1, 1, 1, 1, 1, 1, 1, 1, 1,\n",
       "       1, 1, 1, 1, 1, 1, 0, 0, 0, 1, 1, 1, 1, 1, 1, 1, 1, 1, 1, 1, 0, 1,\n",
       "       1, 0, 1, 0, 1, 0, 1, 1, 1, 1, 1, 1, 1, 1, 1, 0, 1, 1, 1, 0, 1, 1,\n",
       "       1, 1, 1, 1, 0, 1, 1, 1, 1, 1, 1, 0, 1, 1, 1, 1, 1, 0, 1, 1, 1, 1,\n",
       "       1, 1, 0, 1, 1, 1, 1, 0, 1, 1, 0, 1, 1, 1, 1, 1, 0, 1, 1, 1, 1, 1,\n",
       "       1, 1, 1, 0, 0, 1, 1, 0, 1, 1, 1, 1, 1, 1, 1, 1, 1, 1, 1, 1, 1])"
      ]
     },
     "execution_count": 59,
     "metadata": {},
     "output_type": "execute_result"
    }
   ],
   "source": [
    "logmodel = LogisticRegression()\n",
    "logmodel.fit(cr_x_train, cr_y_train)\n",
    "\n",
    "pred_value = logmodel.predict(cr_x_test)\n",
    "pred_value"
   ]
  },
  {
   "cell_type": "code",
   "execution_count": 60,
   "metadata": {},
   "outputs": [],
   "source": [
    "from sklearn.metrics import confusion_matrix"
   ]
  },
  {
   "cell_type": "code",
   "execution_count": 61,
   "metadata": {},
   "outputs": [
    {
     "data": {
      "text/plain": [
       "array([[ 19,  19],\n",
       "       [ 28, 131]])"
      ]
     },
     "execution_count": 61,
     "metadata": {},
     "output_type": "execute_result"
    }
   ],
   "source": [
    "tab1 = confusion_matrix(pred_value, cr_y_test)\n",
    "tab1"
   ]
  },
  {
   "cell_type": "code",
   "execution_count": 62,
   "metadata": {},
   "outputs": [
    {
     "data": {
      "text/plain": [
       "76.14213197969542"
      ]
     },
     "execution_count": 62,
     "metadata": {},
     "output_type": "execute_result"
    }
   ],
   "source": [
    "tab1.diagonal().sum()/tab1.sum()*100"
   ]
  },
  {
   "cell_type": "code",
   "execution_count": 63,
   "metadata": {},
   "outputs": [
    {
     "data": {
      "text/plain": [
       "array([[ 19,  28],\n",
       "       [ 19, 131]])"
      ]
     },
     "execution_count": 63,
     "metadata": {},
     "output_type": "execute_result"
    }
   ],
   "source": [
    "tab2 = confusion_matrix(cr_y_test, pred_value)\n",
    "tab2"
   ]
  },
  {
   "cell_type": "code",
   "execution_count": 64,
   "metadata": {},
   "outputs": [],
   "source": [
    "from sklearn.metrics import roc_curve\n",
    "from sklearn.metrics import roc_auc_score"
   ]
  },
  {
   "cell_type": "code",
   "execution_count": 65,
   "metadata": {},
   "outputs": [
    {
     "data": {
      "text/plain": [
       "0.6387943262411347"
      ]
     },
     "execution_count": 65,
     "metadata": {},
     "output_type": "execute_result"
    }
   ],
   "source": [
    "log_roc_auc = roc_auc_score(cr_y_test, pred_value)\n",
    "log_roc_auc"
   ]
  },
  {
   "cell_type": "code",
   "execution_count": 66,
   "metadata": {},
   "outputs": [
    {
     "data": {
      "text/plain": [
       "0.6387943262411347"
      ]
     },
     "execution_count": 66,
     "metadata": {},
     "output_type": "execute_result"
    }
   ],
   "source": [
    "roc_auc_score(cr_y_test, pred_value)"
   ]
  },
  {
   "cell_type": "code",
   "execution_count": 67,
   "metadata": {},
   "outputs": [],
   "source": [
    "pred_full_prob = logmodel.predict_proba(cr_x)"
   ]
  },
  {
   "cell_type": "code",
   "execution_count": 68,
   "metadata": {},
   "outputs": [
    {
     "data": {
      "text/plain": [
       "array([[0.15753414, 0.84246586],\n",
       "       [0.20029639, 0.79970361],\n",
       "       [0.1132677 , 0.8867323 ],\n",
       "       ...,\n",
       "       [0.57659215, 0.42340785],\n",
       "       [0.20907799, 0.79092201],\n",
       "       [0.19401031, 0.80598969]])"
      ]
     },
     "execution_count": 68,
     "metadata": {},
     "output_type": "execute_result"
    }
   ],
   "source": [
    "pred_full_prob"
   ]
  },
  {
   "cell_type": "code",
   "execution_count": 69,
   "metadata": {},
   "outputs": [
    {
     "data": {
      "text/plain": [
       "(981, 11)"
      ]
     },
     "execution_count": 69,
     "metadata": {},
     "output_type": "execute_result"
    }
   ],
   "source": [
    "cr_x.shape"
   ]
  },
  {
   "cell_type": "code",
   "execution_count": 70,
   "metadata": {},
   "outputs": [],
   "source": [
    "df1 = pd.concat([cr.Loan_ID, pd.Series(pred_full_prob[:, 1])], axis =1)"
   ]
  },
  {
   "cell_type": "code",
   "execution_count": 71,
   "metadata": {},
   "outputs": [],
   "source": [
    "df1.rename(columns = {df1.columns[0]:'Loan_id', df1.columns[1]:'Pred_Prob'}, inplace = True)"
   ]
  },
  {
   "cell_type": "code",
   "execution_count": 72,
   "metadata": {},
   "outputs": [
    {
     "data": {
      "text/html": [
       "<div>\n",
       "<style scoped>\n",
       "    .dataframe tbody tr th:only-of-type {\n",
       "        vertical-align: middle;\n",
       "    }\n",
       "\n",
       "    .dataframe tbody tr th {\n",
       "        vertical-align: top;\n",
       "    }\n",
       "\n",
       "    .dataframe thead th {\n",
       "        text-align: right;\n",
       "    }\n",
       "</style>\n",
       "<table border=\"1\" class=\"dataframe\">\n",
       "  <thead>\n",
       "    <tr style=\"text-align: right;\">\n",
       "      <th></th>\n",
       "      <th>Loan_id</th>\n",
       "      <th>Pred_Prob</th>\n",
       "    </tr>\n",
       "  </thead>\n",
       "  <tbody>\n",
       "    <tr>\n",
       "      <th>0</th>\n",
       "      <td>LP001002</td>\n",
       "      <td>0.842466</td>\n",
       "    </tr>\n",
       "    <tr>\n",
       "      <th>1</th>\n",
       "      <td>LP001003</td>\n",
       "      <td>0.799704</td>\n",
       "    </tr>\n",
       "    <tr>\n",
       "      <th>2</th>\n",
       "      <td>LP001005</td>\n",
       "      <td>0.886732</td>\n",
       "    </tr>\n",
       "    <tr>\n",
       "      <th>3</th>\n",
       "      <td>LP001006</td>\n",
       "      <td>0.811469</td>\n",
       "    </tr>\n",
       "    <tr>\n",
       "      <th>4</th>\n",
       "      <td>LP001008</td>\n",
       "      <td>0.843357</td>\n",
       "    </tr>\n",
       "  </tbody>\n",
       "</table>\n",
       "</div>"
      ],
      "text/plain": [
       "    Loan_id  Pred_Prob\n",
       "0  LP001002   0.842466\n",
       "1  LP001003   0.799704\n",
       "2  LP001005   0.886732\n",
       "3  LP001006   0.811469\n",
       "4  LP001008   0.843357"
      ]
     },
     "execution_count": 72,
     "metadata": {},
     "output_type": "execute_result"
    }
   ],
   "source": [
    "df1.head()"
   ]
  },
  {
   "cell_type": "code",
   "execution_count": 73,
   "metadata": {},
   "outputs": [],
   "source": [
    "df1.sort_values(\"Pred_Prob\", ascending=False, inplace=True)"
   ]
  },
  {
   "cell_type": "code",
   "execution_count": 74,
   "metadata": {},
   "outputs": [
    {
     "data": {
      "text/html": [
       "<div>\n",
       "<style scoped>\n",
       "    .dataframe tbody tr th:only-of-type {\n",
       "        vertical-align: middle;\n",
       "    }\n",
       "\n",
       "    .dataframe tbody tr th {\n",
       "        vertical-align: top;\n",
       "    }\n",
       "\n",
       "    .dataframe thead th {\n",
       "        text-align: right;\n",
       "    }\n",
       "</style>\n",
       "<table border=\"1\" class=\"dataframe\">\n",
       "  <thead>\n",
       "    <tr style=\"text-align: right;\">\n",
       "      <th></th>\n",
       "      <th>Loan_id</th>\n",
       "      <th>Pred_Prob</th>\n",
       "    </tr>\n",
       "  </thead>\n",
       "  <tbody>\n",
       "    <tr>\n",
       "      <th>185</th>\n",
       "      <td>LP001640</td>\n",
       "      <td>0.967923</td>\n",
       "    </tr>\n",
       "    <tr>\n",
       "      <th>133</th>\n",
       "      <td>LP001482</td>\n",
       "      <td>0.956218</td>\n",
       "    </tr>\n",
       "    <tr>\n",
       "      <th>695</th>\n",
       "      <td>LP001428</td>\n",
       "      <td>0.954856</td>\n",
       "    </tr>\n",
       "    <tr>\n",
       "      <th>443</th>\n",
       "      <td>LP002422</td>\n",
       "      <td>0.952831</td>\n",
       "    </tr>\n",
       "    <tr>\n",
       "      <th>183</th>\n",
       "      <td>LP001637</td>\n",
       "      <td>0.952514</td>\n",
       "    </tr>\n",
       "  </tbody>\n",
       "</table>\n",
       "</div>"
      ],
      "text/plain": [
       "      Loan_id  Pred_Prob\n",
       "185  LP001640   0.967923\n",
       "133  LP001482   0.956218\n",
       "695  LP001428   0.954856\n",
       "443  LP002422   0.952831\n",
       "183  LP001637   0.952514"
      ]
     },
     "execution_count": 74,
     "metadata": {},
     "output_type": "execute_result"
    }
   ],
   "source": [
    "df1.head()"
   ]
  },
  {
   "cell_type": "code",
   "execution_count": 75,
   "metadata": {},
   "outputs": [],
   "source": [
    "pred_value_prob = logmodel.predict_proba(cr_x_test)\n",
    "pred_value_prob = pd.DataFrame(pred_value_prob)\n",
    "fpr, tpr, threshold = roc_curve(cr_y_test, pred_value_prob.iloc[:, 1])"
   ]
  },
  {
   "cell_type": "code",
   "execution_count": 76,
   "metadata": {},
   "outputs": [
    {
     "data": {
      "text/html": [
       "<div>\n",
       "<style scoped>\n",
       "    .dataframe tbody tr th:only-of-type {\n",
       "        vertical-align: middle;\n",
       "    }\n",
       "\n",
       "    .dataframe tbody tr th {\n",
       "        vertical-align: top;\n",
       "    }\n",
       "\n",
       "    .dataframe thead th {\n",
       "        text-align: right;\n",
       "    }\n",
       "</style>\n",
       "<table border=\"1\" class=\"dataframe\">\n",
       "  <thead>\n",
       "    <tr style=\"text-align: right;\">\n",
       "      <th></th>\n",
       "      <th>0</th>\n",
       "      <th>1</th>\n",
       "    </tr>\n",
       "  </thead>\n",
       "  <tbody>\n",
       "    <tr>\n",
       "      <th>0</th>\n",
       "      <td>0.739762</td>\n",
       "      <td>0.260238</td>\n",
       "    </tr>\n",
       "    <tr>\n",
       "      <th>1</th>\n",
       "      <td>0.655178</td>\n",
       "      <td>0.344822</td>\n",
       "    </tr>\n",
       "    <tr>\n",
       "      <th>2</th>\n",
       "      <td>0.616120</td>\n",
       "      <td>0.383880</td>\n",
       "    </tr>\n",
       "    <tr>\n",
       "      <th>3</th>\n",
       "      <td>0.069054</td>\n",
       "      <td>0.930946</td>\n",
       "    </tr>\n",
       "    <tr>\n",
       "      <th>4</th>\n",
       "      <td>0.049046</td>\n",
       "      <td>0.950954</td>\n",
       "    </tr>\n",
       "  </tbody>\n",
       "</table>\n",
       "</div>"
      ],
      "text/plain": [
       "          0         1\n",
       "0  0.739762  0.260238\n",
       "1  0.655178  0.344822\n",
       "2  0.616120  0.383880\n",
       "3  0.069054  0.930946\n",
       "4  0.049046  0.950954"
      ]
     },
     "execution_count": 76,
     "metadata": {},
     "output_type": "execute_result"
    }
   ],
   "source": [
    "pred_value_prob.head()"
   ]
  },
  {
   "cell_type": "code",
   "execution_count": 77,
   "metadata": {},
   "outputs": [
    {
     "data": {
      "text/plain": [
       "array([0.        , 0.        , 0.0212766 , 0.0212766 , 0.04255319,\n",
       "       0.04255319, 0.06382979, 0.06382979, 0.08510638, 0.08510638,\n",
       "       0.10638298, 0.10638298, 0.14893617, 0.14893617, 0.17021277,\n",
       "       0.17021277, 0.19148936, 0.19148936, 0.21276596, 0.21276596,\n",
       "       0.23404255, 0.23404255, 0.25531915, 0.25531915, 0.27659574,\n",
       "       0.27659574, 0.29787234, 0.29787234, 0.31914894, 0.31914894,\n",
       "       0.34042553, 0.34042553, 0.36170213, 0.36170213, 0.38297872,\n",
       "       0.38297872, 0.42553191, 0.42553191, 0.44680851, 0.44680851,\n",
       "       0.46808511, 0.46808511, 0.4893617 , 0.4893617 , 0.53191489,\n",
       "       0.53191489, 0.57446809, 0.57446809, 0.59574468, 0.59574468,\n",
       "       0.68085106, 0.68085106, 0.70212766, 0.70212766, 0.72340426,\n",
       "       0.72340426, 0.74468085, 0.74468085, 0.78723404, 0.78723404,\n",
       "       0.85106383, 0.85106383, 0.87234043, 0.87234043, 0.9787234 ,\n",
       "       0.9787234 , 1.        , 1.        ])"
      ]
     },
     "execution_count": 77,
     "metadata": {},
     "output_type": "execute_result"
    }
   ],
   "source": [
    "fpr"
   ]
  },
  {
   "cell_type": "code",
   "execution_count": 78,
   "metadata": {},
   "outputs": [
    {
     "data": {
      "text/plain": [
       "array([0.        , 0.00666667, 0.00666667, 0.01333333, 0.01333333,\n",
       "       0.08      , 0.08      , 0.20666667, 0.20666667, 0.25333333,\n",
       "       0.25333333, 0.26666667, 0.26666667, 0.32      , 0.32      ,\n",
       "       0.35333333, 0.35333333, 0.45333333, 0.45333333, 0.46      ,\n",
       "       0.46      , 0.48      , 0.48      , 0.49333333, 0.49333333,\n",
       "       0.51333333, 0.51333333, 0.52      , 0.52      , 0.57333333,\n",
       "       0.57333333, 0.60666667, 0.60666667, 0.68666667, 0.68666667,\n",
       "       0.71333333, 0.71333333, 0.81333333, 0.81333333, 0.83333333,\n",
       "       0.83333333, 0.84      , 0.84      , 0.84666667, 0.84666667,\n",
       "       0.85333333, 0.85333333, 0.87333333, 0.87333333, 0.9       ,\n",
       "       0.9       , 0.90666667, 0.90666667, 0.92666667, 0.92666667,\n",
       "       0.93333333, 0.93333333, 0.94      , 0.94      , 0.94666667,\n",
       "       0.94666667, 0.97333333, 0.97333333, 0.98      , 0.98      ,\n",
       "       0.99333333, 0.99333333, 1.        ])"
      ]
     },
     "execution_count": 78,
     "metadata": {},
     "output_type": "execute_result"
    }
   ],
   "source": [
    "tpr"
   ]
  },
  {
   "cell_type": "code",
   "execution_count": 79,
   "metadata": {},
   "outputs": [
    {
     "data": {
      "text/plain": [
       "array([[0.73976166, 0.26023834],\n",
       "       [0.65517833, 0.34482167],\n",
       "       [0.61612019, 0.38387981],\n",
       "       [0.06905366, 0.93094634],\n",
       "       [0.04904612, 0.95095388],\n",
       "       [0.62885877, 0.37114123],\n",
       "       [0.81409729, 0.18590271],\n",
       "       [0.19285127, 0.80714873],\n",
       "       [0.73342028, 0.26657972],\n",
       "       [0.06671095, 0.93328905],\n",
       "       [0.5113313 , 0.4886687 ],\n",
       "       [0.20597041, 0.79402959],\n",
       "       [0.84859111, 0.15140889],\n",
       "       [0.09394599, 0.90605401],\n",
       "       [0.21311392, 0.78688608],\n",
       "       [0.09008611, 0.90991389],\n",
       "       [0.18460934, 0.81539066],\n",
       "       [0.08822249, 0.91177751],\n",
       "       [0.1547095 , 0.8452905 ],\n",
       "       [0.30945813, 0.69054187],\n",
       "       [0.19834728, 0.80165272],\n",
       "       [0.41655273, 0.58344727],\n",
       "       [0.10459728, 0.89540272],\n",
       "       [0.19367195, 0.80632805],\n",
       "       [0.15110872, 0.84889128],\n",
       "       [0.22561353, 0.77438647],\n",
       "       [0.1517346 , 0.8482654 ],\n",
       "       [0.75687925, 0.24312075],\n",
       "       [0.0641947 , 0.9358053 ],\n",
       "       [0.04748614, 0.95251386],\n",
       "       [0.52988538, 0.47011462],\n",
       "       [0.76680223, 0.23319777],\n",
       "       [0.07099443, 0.92900557],\n",
       "       [0.75939649, 0.24060351],\n",
       "       [0.33235065, 0.66764935],\n",
       "       [0.16018477, 0.83981523],\n",
       "       [0.07251118, 0.92748882],\n",
       "       [0.12051519, 0.87948481],\n",
       "       [0.19142467, 0.80857533],\n",
       "       [0.08271004, 0.91728996],\n",
       "       [0.1228723 , 0.8771277 ],\n",
       "       [0.23542161, 0.76457839],\n",
       "       [0.05726621, 0.94273379],\n",
       "       [0.19693838, 0.80306162],\n",
       "       [0.69424358, 0.30575642],\n",
       "       [0.10097556, 0.89902444],\n",
       "       [0.17527667, 0.82472333],\n",
       "       [0.13659235, 0.86340765],\n",
       "       [0.24830627, 0.75169373],\n",
       "       [0.64897289, 0.35102711],\n",
       "       [0.10189576, 0.89810424],\n",
       "       [0.20687003, 0.79312997],\n",
       "       [0.10867826, 0.89132174],\n",
       "       [0.12040433, 0.87959567],\n",
       "       [0.06646303, 0.93353697],\n",
       "       [0.57965536, 0.42034464],\n",
       "       [0.16252438, 0.83747562],\n",
       "       [0.09607996, 0.90392004],\n",
       "       [0.65632011, 0.34367989],\n",
       "       [0.08584309, 0.91415691],\n",
       "       [0.25923951, 0.74076049],\n",
       "       [0.07284544, 0.92715456],\n",
       "       [0.78198253, 0.21801747],\n",
       "       [0.3576133 , 0.6423867 ],\n",
       "       [0.10863241, 0.89136759],\n",
       "       [0.09061379, 0.90938621],\n",
       "       [0.15413517, 0.84586483],\n",
       "       [0.62963338, 0.37036662],\n",
       "       [0.35763657, 0.64236343],\n",
       "       [0.23370369, 0.76629631],\n",
       "       [0.17033495, 0.82966505],\n",
       "       [0.26540482, 0.73459518],\n",
       "       [0.07522227, 0.92477773],\n",
       "       [0.14285999, 0.85714001],\n",
       "       [0.29590291, 0.70409709],\n",
       "       [0.7831065 , 0.2168935 ],\n",
       "       [0.16225875, 0.83774125],\n",
       "       [0.20964764, 0.79035236],\n",
       "       [0.08502395, 0.91497605],\n",
       "       [0.19193294, 0.80806706],\n",
       "       [0.185663  , 0.814337  ],\n",
       "       [0.17112239, 0.82887761],\n",
       "       [0.14399942, 0.85600058],\n",
       "       [0.16161175, 0.83838825],\n",
       "       [0.07229975, 0.92770025],\n",
       "       [0.1190287 , 0.8809713 ],\n",
       "       [0.20069706, 0.79930294],\n",
       "       [0.07194097, 0.92805903],\n",
       "       [0.34347856, 0.65652144],\n",
       "       [0.06716895, 0.93283105],\n",
       "       [0.12025291, 0.87974709],\n",
       "       [0.2032336 , 0.7967664 ],\n",
       "       [0.13701092, 0.86298908],\n",
       "       [0.19774037, 0.80225963],\n",
       "       [0.77047831, 0.22952169],\n",
       "       [0.66095051, 0.33904949],\n",
       "       [0.5497255 , 0.4502745 ],\n",
       "       [0.09323606, 0.90676394],\n",
       "       [0.31176275, 0.68823725],\n",
       "       [0.19275875, 0.80724125],\n",
       "       [0.20807975, 0.79192025],\n",
       "       [0.12612065, 0.87387935],\n",
       "       [0.06085292, 0.93914708],\n",
       "       [0.26084436, 0.73915564],\n",
       "       [0.05398187, 0.94601813],\n",
       "       [0.07369727, 0.92630273],\n",
       "       [0.06580458, 0.93419542],\n",
       "       [0.3708405 , 0.6291595 ],\n",
       "       [0.87722669, 0.12277331],\n",
       "       [0.10233455, 0.89766545],\n",
       "       [0.31070322, 0.68929678],\n",
       "       [0.72186146, 0.27813854],\n",
       "       [0.13152202, 0.86847798],\n",
       "       [0.86215773, 0.13784227],\n",
       "       [0.17952362, 0.82047638],\n",
       "       [0.58184717, 0.41815283],\n",
       "       [0.25845801, 0.74154199],\n",
       "       [0.04996616, 0.95003384],\n",
       "       [0.07180832, 0.92819168],\n",
       "       [0.12607357, 0.87392643],\n",
       "       [0.04514377, 0.95485623],\n",
       "       [0.09096419, 0.90903581],\n",
       "       [0.13890584, 0.86109416],\n",
       "       [0.4845973 , 0.5154027 ],\n",
       "       [0.20426613, 0.79573387],\n",
       "       [0.79015318, 0.20984682],\n",
       "       [0.32472768, 0.67527232],\n",
       "       [0.24491209, 0.75508791],\n",
       "       [0.14711435, 0.85288565],\n",
       "       [0.63196623, 0.36803377],\n",
       "       [0.06864656, 0.93135344],\n",
       "       [0.17909252, 0.82090748],\n",
       "       [0.12980458, 0.87019542],\n",
       "       [0.10205093, 0.89794907],\n",
       "       [0.1172606 , 0.8827394 ],\n",
       "       [0.16499523, 0.83500477],\n",
       "       [0.60555632, 0.39444368],\n",
       "       [0.32889713, 0.67110287],\n",
       "       [0.06819895, 0.93180105],\n",
       "       [0.20803247, 0.79196753],\n",
       "       [0.14863932, 0.85136068],\n",
       "       [0.08351737, 0.91648263],\n",
       "       [0.30016733, 0.69983267],\n",
       "       [0.84020718, 0.15979282],\n",
       "       [0.32811655, 0.67188345],\n",
       "       [0.06803326, 0.93196674],\n",
       "       [0.06688332, 0.93311668],\n",
       "       [0.24500416, 0.75499584],\n",
       "       [0.07502295, 0.92497705],\n",
       "       [0.63857294, 0.36142706],\n",
       "       [0.34800564, 0.65199436],\n",
       "       [0.20256052, 0.79743948],\n",
       "       [0.19108173, 0.80891827],\n",
       "       [0.16338965, 0.83661035],\n",
       "       [0.19912948, 0.80087052],\n",
       "       [0.06796977, 0.93203023],\n",
       "       [0.84178351, 0.15821649],\n",
       "       [0.18376682, 0.81623318],\n",
       "       [0.26503892, 0.73496108],\n",
       "       [0.19136133, 0.80863867],\n",
       "       [0.1132    , 0.8868    ],\n",
       "       [0.63569471, 0.36430529],\n",
       "       [0.06550714, 0.93449286],\n",
       "       [0.11510851, 0.88489149],\n",
       "       [0.62026501, 0.37973499],\n",
       "       [0.11048808, 0.88951192],\n",
       "       [0.14531766, 0.85468234],\n",
       "       [0.07584753, 0.92415247],\n",
       "       [0.14946311, 0.85053689],\n",
       "       [0.2136186 , 0.7863814 ],\n",
       "       [0.85597539, 0.14402461],\n",
       "       [0.11112253, 0.88887747],\n",
       "       [0.21561362, 0.78438638],\n",
       "       [0.06858569, 0.93141431],\n",
       "       [0.26538561, 0.73461439],\n",
       "       [0.23246999, 0.76753001],\n",
       "       [0.34241308, 0.65758692],\n",
       "       [0.19459205, 0.80540795],\n",
       "       [0.20271832, 0.79728168],\n",
       "       [0.6092597 , 0.3907403 ],\n",
       "       [0.71871161, 0.28128839],\n",
       "       [0.14683657, 0.85316343],\n",
       "       [0.12782738, 0.87217262],\n",
       "       [0.74704226, 0.25295774],\n",
       "       [0.22613372, 0.77386628],\n",
       "       [0.1158777 , 0.8841223 ],\n",
       "       [0.16587592, 0.83412408],\n",
       "       [0.07969297, 0.92030703],\n",
       "       [0.09147228, 0.90852772],\n",
       "       [0.09199926, 0.90800074],\n",
       "       [0.06911667, 0.93088333],\n",
       "       [0.36275116, 0.63724884],\n",
       "       [0.12846396, 0.87153604],\n",
       "       [0.161319  , 0.838681  ],\n",
       "       [0.28435432, 0.71564568],\n",
       "       [0.29830104, 0.70169896],\n",
       "       [0.2027177 , 0.7972823 ]])"
      ]
     },
     "execution_count": 79,
     "metadata": {},
     "output_type": "execute_result"
    }
   ],
   "source": [
    "logmodel.predict_proba(cr_x_test)"
   ]
  },
  {
   "cell_type": "code",
   "execution_count": 80,
   "metadata": {},
   "outputs": [
    {
     "data": {
      "text/plain": [
       "array([[0.73976166, 0.26023834],\n",
       "       [0.65517833, 0.34482167],\n",
       "       [0.61612019, 0.38387981],\n",
       "       [0.06905366, 0.93094634],\n",
       "       [0.04904612, 0.95095388],\n",
       "       [0.62885877, 0.37114123],\n",
       "       [0.81409729, 0.18590271],\n",
       "       [0.19285127, 0.80714873],\n",
       "       [0.73342028, 0.26657972],\n",
       "       [0.06671095, 0.93328905],\n",
       "       [0.5113313 , 0.4886687 ],\n",
       "       [0.20597041, 0.79402959],\n",
       "       [0.84859111, 0.15140889],\n",
       "       [0.09394599, 0.90605401],\n",
       "       [0.21311392, 0.78688608],\n",
       "       [0.09008611, 0.90991389],\n",
       "       [0.18460934, 0.81539066],\n",
       "       [0.08822249, 0.91177751],\n",
       "       [0.1547095 , 0.8452905 ],\n",
       "       [0.30945813, 0.69054187],\n",
       "       [0.19834728, 0.80165272],\n",
       "       [0.41655273, 0.58344727],\n",
       "       [0.10459728, 0.89540272],\n",
       "       [0.19367195, 0.80632805],\n",
       "       [0.15110872, 0.84889128],\n",
       "       [0.22561353, 0.77438647],\n",
       "       [0.1517346 , 0.8482654 ],\n",
       "       [0.75687925, 0.24312075],\n",
       "       [0.0641947 , 0.9358053 ],\n",
       "       [0.04748614, 0.95251386],\n",
       "       [0.52988538, 0.47011462],\n",
       "       [0.76680223, 0.23319777],\n",
       "       [0.07099443, 0.92900557],\n",
       "       [0.75939649, 0.24060351],\n",
       "       [0.33235065, 0.66764935],\n",
       "       [0.16018477, 0.83981523],\n",
       "       [0.07251118, 0.92748882],\n",
       "       [0.12051519, 0.87948481],\n",
       "       [0.19142467, 0.80857533],\n",
       "       [0.08271004, 0.91728996],\n",
       "       [0.1228723 , 0.8771277 ],\n",
       "       [0.23542161, 0.76457839],\n",
       "       [0.05726621, 0.94273379],\n",
       "       [0.19693838, 0.80306162],\n",
       "       [0.69424358, 0.30575642],\n",
       "       [0.10097556, 0.89902444],\n",
       "       [0.17527667, 0.82472333],\n",
       "       [0.13659235, 0.86340765],\n",
       "       [0.24830627, 0.75169373],\n",
       "       [0.64897289, 0.35102711],\n",
       "       [0.10189576, 0.89810424],\n",
       "       [0.20687003, 0.79312997],\n",
       "       [0.10867826, 0.89132174],\n",
       "       [0.12040433, 0.87959567],\n",
       "       [0.06646303, 0.93353697],\n",
       "       [0.57965536, 0.42034464],\n",
       "       [0.16252438, 0.83747562],\n",
       "       [0.09607996, 0.90392004],\n",
       "       [0.65632011, 0.34367989],\n",
       "       [0.08584309, 0.91415691],\n",
       "       [0.25923951, 0.74076049],\n",
       "       [0.07284544, 0.92715456],\n",
       "       [0.78198253, 0.21801747],\n",
       "       [0.3576133 , 0.6423867 ],\n",
       "       [0.10863241, 0.89136759],\n",
       "       [0.09061379, 0.90938621],\n",
       "       [0.15413517, 0.84586483],\n",
       "       [0.62963338, 0.37036662],\n",
       "       [0.35763657, 0.64236343],\n",
       "       [0.23370369, 0.76629631],\n",
       "       [0.17033495, 0.82966505],\n",
       "       [0.26540482, 0.73459518],\n",
       "       [0.07522227, 0.92477773],\n",
       "       [0.14285999, 0.85714001],\n",
       "       [0.29590291, 0.70409709],\n",
       "       [0.7831065 , 0.2168935 ],\n",
       "       [0.16225875, 0.83774125],\n",
       "       [0.20964764, 0.79035236],\n",
       "       [0.08502395, 0.91497605],\n",
       "       [0.19193294, 0.80806706],\n",
       "       [0.185663  , 0.814337  ],\n",
       "       [0.17112239, 0.82887761],\n",
       "       [0.14399942, 0.85600058],\n",
       "       [0.16161175, 0.83838825],\n",
       "       [0.07229975, 0.92770025],\n",
       "       [0.1190287 , 0.8809713 ],\n",
       "       [0.20069706, 0.79930294],\n",
       "       [0.07194097, 0.92805903],\n",
       "       [0.34347856, 0.65652144],\n",
       "       [0.06716895, 0.93283105],\n",
       "       [0.12025291, 0.87974709],\n",
       "       [0.2032336 , 0.7967664 ],\n",
       "       [0.13701092, 0.86298908],\n",
       "       [0.19774037, 0.80225963],\n",
       "       [0.77047831, 0.22952169],\n",
       "       [0.66095051, 0.33904949],\n",
       "       [0.5497255 , 0.4502745 ],\n",
       "       [0.09323606, 0.90676394],\n",
       "       [0.31176275, 0.68823725],\n",
       "       [0.19275875, 0.80724125],\n",
       "       [0.20807975, 0.79192025],\n",
       "       [0.12612065, 0.87387935],\n",
       "       [0.06085292, 0.93914708],\n",
       "       [0.26084436, 0.73915564],\n",
       "       [0.05398187, 0.94601813],\n",
       "       [0.07369727, 0.92630273],\n",
       "       [0.06580458, 0.93419542],\n",
       "       [0.3708405 , 0.6291595 ],\n",
       "       [0.87722669, 0.12277331],\n",
       "       [0.10233455, 0.89766545],\n",
       "       [0.31070322, 0.68929678],\n",
       "       [0.72186146, 0.27813854],\n",
       "       [0.13152202, 0.86847798],\n",
       "       [0.86215773, 0.13784227],\n",
       "       [0.17952362, 0.82047638],\n",
       "       [0.58184717, 0.41815283],\n",
       "       [0.25845801, 0.74154199],\n",
       "       [0.04996616, 0.95003384],\n",
       "       [0.07180832, 0.92819168],\n",
       "       [0.12607357, 0.87392643],\n",
       "       [0.04514377, 0.95485623],\n",
       "       [0.09096419, 0.90903581],\n",
       "       [0.13890584, 0.86109416],\n",
       "       [0.4845973 , 0.5154027 ],\n",
       "       [0.20426613, 0.79573387],\n",
       "       [0.79015318, 0.20984682],\n",
       "       [0.32472768, 0.67527232],\n",
       "       [0.24491209, 0.75508791],\n",
       "       [0.14711435, 0.85288565],\n",
       "       [0.63196623, 0.36803377],\n",
       "       [0.06864656, 0.93135344],\n",
       "       [0.17909252, 0.82090748],\n",
       "       [0.12980458, 0.87019542],\n",
       "       [0.10205093, 0.89794907],\n",
       "       [0.1172606 , 0.8827394 ],\n",
       "       [0.16499523, 0.83500477],\n",
       "       [0.60555632, 0.39444368],\n",
       "       [0.32889713, 0.67110287],\n",
       "       [0.06819895, 0.93180105],\n",
       "       [0.20803247, 0.79196753],\n",
       "       [0.14863932, 0.85136068],\n",
       "       [0.08351737, 0.91648263],\n",
       "       [0.30016733, 0.69983267],\n",
       "       [0.84020718, 0.15979282],\n",
       "       [0.32811655, 0.67188345],\n",
       "       [0.06803326, 0.93196674],\n",
       "       [0.06688332, 0.93311668],\n",
       "       [0.24500416, 0.75499584],\n",
       "       [0.07502295, 0.92497705],\n",
       "       [0.63857294, 0.36142706],\n",
       "       [0.34800564, 0.65199436],\n",
       "       [0.20256052, 0.79743948],\n",
       "       [0.19108173, 0.80891827],\n",
       "       [0.16338965, 0.83661035],\n",
       "       [0.19912948, 0.80087052],\n",
       "       [0.06796977, 0.93203023],\n",
       "       [0.84178351, 0.15821649],\n",
       "       [0.18376682, 0.81623318],\n",
       "       [0.26503892, 0.73496108],\n",
       "       [0.19136133, 0.80863867],\n",
       "       [0.1132    , 0.8868    ],\n",
       "       [0.63569471, 0.36430529],\n",
       "       [0.06550714, 0.93449286],\n",
       "       [0.11510851, 0.88489149],\n",
       "       [0.62026501, 0.37973499],\n",
       "       [0.11048808, 0.88951192],\n",
       "       [0.14531766, 0.85468234],\n",
       "       [0.07584753, 0.92415247],\n",
       "       [0.14946311, 0.85053689],\n",
       "       [0.2136186 , 0.7863814 ],\n",
       "       [0.85597539, 0.14402461],\n",
       "       [0.11112253, 0.88887747],\n",
       "       [0.21561362, 0.78438638],\n",
       "       [0.06858569, 0.93141431],\n",
       "       [0.26538561, 0.73461439],\n",
       "       [0.23246999, 0.76753001],\n",
       "       [0.34241308, 0.65758692],\n",
       "       [0.19459205, 0.80540795],\n",
       "       [0.20271832, 0.79728168],\n",
       "       [0.6092597 , 0.3907403 ],\n",
       "       [0.71871161, 0.28128839],\n",
       "       [0.14683657, 0.85316343],\n",
       "       [0.12782738, 0.87217262],\n",
       "       [0.74704226, 0.25295774],\n",
       "       [0.22613372, 0.77386628],\n",
       "       [0.1158777 , 0.8841223 ],\n",
       "       [0.16587592, 0.83412408],\n",
       "       [0.07969297, 0.92030703],\n",
       "       [0.09147228, 0.90852772],\n",
       "       [0.09199926, 0.90800074],\n",
       "       [0.06911667, 0.93088333],\n",
       "       [0.36275116, 0.63724884],\n",
       "       [0.12846396, 0.87153604],\n",
       "       [0.161319  , 0.838681  ],\n",
       "       [0.28435432, 0.71564568],\n",
       "       [0.29830104, 0.70169896],\n",
       "       [0.2027177 , 0.7972823 ]])"
      ]
     },
     "execution_count": 80,
     "metadata": {},
     "output_type": "execute_result"
    }
   ],
   "source": [
    "logmodel.predict_proba(cr_x_test)"
   ]
  },
  {
   "cell_type": "code",
   "execution_count": 82,
   "metadata": {},
   "outputs": [
    {
     "data": {
      "image/png": "[encoded data removed]",
      "text/plain": [
       "<Figure size 576x576 with 1 Axes>"
      ]
     },
     "metadata": {
      "needs_background": "light"
     },
     "output_type": "display_data"
    }
   ],
   "source": [
    "plt.figure(figsize = (8,8))\n",
    "plt.plot(fpr, tpr, color = \"red\")\n",
    "plt.xlabel('fpr values')\n",
    "plt.ylabel('Tpr values')\n",
    "plt.title('AUROC CURVE for loan Application')\n",
    "plt.grid()"
   ]
  },
  {
   "cell_type": "code",
   "execution_count": 83,
   "metadata": {},
   "outputs": [
    {
     "data": {
      "text/plain": [
       "array([[0.73976166, 0.26023834],\n",
       "       [0.65517833, 0.34482167],\n",
       "       [0.61612019, 0.38387981],\n",
       "       [0.06905366, 0.93094634],\n",
       "       [0.04904612, 0.95095388],\n",
       "       [0.62885877, 0.37114123],\n",
       "       [0.81409729, 0.18590271],\n",
       "       [0.19285127, 0.80714873],\n",
       "       [0.73342028, 0.26657972],\n",
       "       [0.06671095, 0.93328905]])"
      ]
     },
     "execution_count": 83,
     "metadata": {},
     "output_type": "execute_result"
    }
   ],
   "source": [
    "pred_value_prob = logmodel.predict_proba(cr_x_test)\n",
    "pred_value_prob[0:10]"
   ]
  },
  {
   "cell_type": "code",
   "execution_count": 84,
   "metadata": {},
   "outputs": [
    {
     "data": {
      "text/plain": [
       "array([0, 0, 0, 1, 1, 0, 0, 1, 0, 1, 0, 1, 0, 1, 1, 1, 1, 1, 1, 1, 1, 1,\n",
       "       1, 1, 1, 1, 1, 0, 1, 1, 0, 0, 1, 0, 1, 1, 1, 1, 1, 1, 1, 1, 1, 1,\n",
       "       0, 1, 1, 1, 1, 0, 1, 1, 1, 1, 1, 0, 1, 1, 0, 1, 1, 1, 0, 1, 1, 1,\n",
       "       1, 0, 1, 1, 1, 1, 1, 1, 1, 0, 1, 1, 1, 1, 1, 1, 1, 1, 1, 1, 1, 1,\n",
       "       1, 1, 1, 1, 1, 1, 0, 0, 0, 1, 1, 1, 1, 1, 1, 1, 1, 1, 1, 1, 0, 1,\n",
       "       1, 0, 1, 0, 1, 0, 1, 1, 1, 1, 1, 1, 1, 1, 1, 0, 1, 1, 1, 0, 1, 1,\n",
       "       1, 1, 1, 1, 0, 1, 1, 1, 1, 1, 1, 0, 1, 1, 1, 1, 1, 0, 1, 1, 1, 1,\n",
       "       1, 1, 0, 1, 1, 1, 1, 0, 1, 1, 0, 1, 1, 1, 1, 1, 0, 1, 1, 1, 1, 1,\n",
       "       1, 1, 1, 0, 0, 1, 1, 0, 1, 1, 1, 1, 1, 1, 1, 1, 1, 1, 1, 1, 1])"
      ]
     },
     "execution_count": 84,
     "metadata": {},
     "output_type": "execute_result"
    }
   ],
   "source": [
    "logmodel.predict(cr_x_test)"
   ]
  },
  {
   "cell_type": "code",
   "execution_count": 85,
   "metadata": {},
   "outputs": [
    {
     "data": {
      "text/plain": [
       "0.8478964401294499"
      ]
     },
     "execution_count": 85,
     "metadata": {},
     "output_type": "execute_result"
    }
   ],
   "source": [
    "from sklearn.metrics import f1_score\n",
    "f1 =f1_score(cr_y_test, pred_value)\n",
    "f1"
   ]
  },
  {
   "cell_type": "code",
   "execution_count": 86,
   "metadata": {},
   "outputs": [],
   "source": [
    "from sklearn.tree import DecisionTreeClassifier\n",
    "dt = DecisionTreeClassifier(class_weight = 'balanced')"
   ]
  },
  {
   "cell_type": "code",
   "execution_count": 87,
   "metadata": {},
   "outputs": [
    {
     "data": {
      "text/plain": [
       "DecisionTreeClassifier(class_weight='balanced')"
      ]
     },
     "execution_count": 87,
     "metadata": {},
     "output_type": "execute_result"
    }
   ],
   "source": [
    "dt.fit(cr_x_train, cr_y_train)"
   ]
  },
  {
   "cell_type": "code",
   "execution_count": 88,
   "metadata": {},
   "outputs": [
    {
     "data": {
      "text/plain": [
       "array([0.00187299, 0.03576028, 0.04255063, 0.02053566, 0.01726782,\n",
       "       0.24501032, 0.08602454, 0.14405435, 0.04802026, 0.28964252,\n",
       "       0.06926064])"
      ]
     },
     "execution_count": 88,
     "metadata": {},
     "output_type": "execute_result"
    }
   ],
   "source": [
    "dt.feature_importances_"
   ]
  },
  {
   "cell_type": "code",
   "execution_count": 89,
   "metadata": {},
   "outputs": [
    {
     "name": "stdout",
     "output_type": "stream",
     "text": [
      "11\n",
      "11\n"
     ]
    }
   ],
   "source": [
    "print(len(dt.feature_importances_))\n",
    "print(len(cr_x_train.columns))"
   ]
  },
  {
   "cell_type": "code",
   "execution_count": 91,
   "metadata": {},
   "outputs": [
    {
     "data": {
      "text/plain": [
       "1.0"
      ]
     },
     "execution_count": 91,
     "metadata": {},
     "output_type": "execute_result"
    }
   ],
   "source": [
    "dt.feature_importances_.sum()"
   ]
  },
  {
   "cell_type": "code",
   "execution_count": 92,
   "metadata": {},
   "outputs": [
    {
     "data": {
      "text/plain": [
       "Index(['Gender', 'Married', 'Dependents', 'Education', 'Self_Employed',\n",
       "       'ApplicantIncome', 'CoapplicantIncome', 'LoanAmount',\n",
       "       'Loan_Amount_Term', 'Credit_History', 'Property_Area'],\n",
       "      dtype='object')"
      ]
     },
     "execution_count": 92,
     "metadata": {},
     "output_type": "execute_result"
    }
   ],
   "source": [
    "cr_x_train.columns"
   ]
  },
  {
   "cell_type": "code",
   "execution_count": 93,
   "metadata": {},
   "outputs": [],
   "source": [
    "feature_imporatne = pd.DataFrame({'col_name':cr_x_train.columns, 'Importance': dt.feature_importances_})"
   ]
  },
  {
   "cell_type": "code",
   "execution_count": 94,
   "metadata": {},
   "outputs": [
    {
     "data": {
      "text/html": [
       "<div>\n",
       "<style scoped>\n",
       "    .dataframe tbody tr th:only-of-type {\n",
       "        vertical-align: middle;\n",
       "    }\n",
       "\n",
       "    .dataframe tbody tr th {\n",
       "        vertical-align: top;\n",
       "    }\n",
       "\n",
       "    .dataframe thead th {\n",
       "        text-align: right;\n",
       "    }\n",
       "</style>\n",
       "<table border=\"1\" class=\"dataframe\">\n",
       "  <thead>\n",
       "    <tr style=\"text-align: right;\">\n",
       "      <th></th>\n",
       "      <th>col_name</th>\n",
       "      <th>Importance</th>\n",
       "    </tr>\n",
       "  </thead>\n",
       "  <tbody>\n",
       "    <tr>\n",
       "      <th>0</th>\n",
       "      <td>Gender</td>\n",
       "      <td>0.001873</td>\n",
       "    </tr>\n",
       "    <tr>\n",
       "      <th>1</th>\n",
       "      <td>Married</td>\n",
       "      <td>0.035760</td>\n",
       "    </tr>\n",
       "    <tr>\n",
       "      <th>2</th>\n",
       "      <td>Dependents</td>\n",
       "      <td>0.042551</td>\n",
       "    </tr>\n",
       "    <tr>\n",
       "      <th>3</th>\n",
       "      <td>Education</td>\n",
       "      <td>0.020536</td>\n",
       "    </tr>\n",
       "    <tr>\n",
       "      <th>4</th>\n",
       "      <td>Self_Employed</td>\n",
       "      <td>0.017268</td>\n",
       "    </tr>\n",
       "    <tr>\n",
       "      <th>5</th>\n",
       "      <td>ApplicantIncome</td>\n",
       "      <td>0.245010</td>\n",
       "    </tr>\n",
       "    <tr>\n",
       "      <th>6</th>\n",
       "      <td>CoapplicantIncome</td>\n",
       "      <td>0.086025</td>\n",
       "    </tr>\n",
       "    <tr>\n",
       "      <th>7</th>\n",
       "      <td>LoanAmount</td>\n",
       "      <td>0.144054</td>\n",
       "    </tr>\n",
       "    <tr>\n",
       "      <th>8</th>\n",
       "      <td>Loan_Amount_Term</td>\n",
       "      <td>0.048020</td>\n",
       "    </tr>\n",
       "    <tr>\n",
       "      <th>9</th>\n",
       "      <td>Credit_History</td>\n",
       "      <td>0.289643</td>\n",
       "    </tr>\n",
       "    <tr>\n",
       "      <th>10</th>\n",
       "      <td>Property_Area</td>\n",
       "      <td>0.069261</td>\n",
       "    </tr>\n",
       "  </tbody>\n",
       "</table>\n",
       "</div>"
      ],
      "text/plain": [
       "             col_name  Importance\n",
       "0              Gender    0.001873\n",
       "1             Married    0.035760\n",
       "2          Dependents    0.042551\n",
       "3           Education    0.020536\n",
       "4       Self_Employed    0.017268\n",
       "5     ApplicantIncome    0.245010\n",
       "6   CoapplicantIncome    0.086025\n",
       "7          LoanAmount    0.144054\n",
       "8    Loan_Amount_Term    0.048020\n",
       "9      Credit_History    0.289643\n",
       "10      Property_Area    0.069261"
      ]
     },
     "execution_count": 94,
     "metadata": {},
     "output_type": "execute_result"
    }
   ],
   "source": [
    "feature_imporatne\n"
   ]
  },
  {
   "cell_type": "code",
   "execution_count": 95,
   "metadata": {},
   "outputs": [],
   "source": [
    " feature_imporatne.sort_values('Importance', ascending = False, inplace = True)"
   ]
  },
  {
   "cell_type": "code",
   "execution_count": 96,
   "metadata": {},
   "outputs": [
    {
     "data": {
      "text/html": [
       "<div>\n",
       "<style scoped>\n",
       "    .dataframe tbody tr th:only-of-type {\n",
       "        vertical-align: middle;\n",
       "    }\n",
       "\n",
       "    .dataframe tbody tr th {\n",
       "        vertical-align: top;\n",
       "    }\n",
       "\n",
       "    .dataframe thead th {\n",
       "        text-align: right;\n",
       "    }\n",
       "</style>\n",
       "<table border=\"1\" class=\"dataframe\">\n",
       "  <thead>\n",
       "    <tr style=\"text-align: right;\">\n",
       "      <th></th>\n",
       "      <th>col_name</th>\n",
       "      <th>Importance</th>\n",
       "    </tr>\n",
       "  </thead>\n",
       "  <tbody>\n",
       "    <tr>\n",
       "      <th>9</th>\n",
       "      <td>Credit_History</td>\n",
       "      <td>0.289643</td>\n",
       "    </tr>\n",
       "    <tr>\n",
       "      <th>5</th>\n",
       "      <td>ApplicantIncome</td>\n",
       "      <td>0.245010</td>\n",
       "    </tr>\n",
       "    <tr>\n",
       "      <th>7</th>\n",
       "      <td>LoanAmount</td>\n",
       "      <td>0.144054</td>\n",
       "    </tr>\n",
       "    <tr>\n",
       "      <th>6</th>\n",
       "      <td>CoapplicantIncome</td>\n",
       "      <td>0.086025</td>\n",
       "    </tr>\n",
       "    <tr>\n",
       "      <th>10</th>\n",
       "      <td>Property_Area</td>\n",
       "      <td>0.069261</td>\n",
       "    </tr>\n",
       "    <tr>\n",
       "      <th>8</th>\n",
       "      <td>Loan_Amount_Term</td>\n",
       "      <td>0.048020</td>\n",
       "    </tr>\n",
       "    <tr>\n",
       "      <th>2</th>\n",
       "      <td>Dependents</td>\n",
       "      <td>0.042551</td>\n",
       "    </tr>\n",
       "    <tr>\n",
       "      <th>1</th>\n",
       "      <td>Married</td>\n",
       "      <td>0.035760</td>\n",
       "    </tr>\n",
       "    <tr>\n",
       "      <th>3</th>\n",
       "      <td>Education</td>\n",
       "      <td>0.020536</td>\n",
       "    </tr>\n",
       "    <tr>\n",
       "      <th>4</th>\n",
       "      <td>Self_Employed</td>\n",
       "      <td>0.017268</td>\n",
       "    </tr>\n",
       "    <tr>\n",
       "      <th>0</th>\n",
       "      <td>Gender</td>\n",
       "      <td>0.001873</td>\n",
       "    </tr>\n",
       "  </tbody>\n",
       "</table>\n",
       "</div>"
      ],
      "text/plain": [
       "             col_name  Importance\n",
       "9      Credit_History    0.289643\n",
       "5     ApplicantIncome    0.245010\n",
       "7          LoanAmount    0.144054\n",
       "6   CoapplicantIncome    0.086025\n",
       "10      Property_Area    0.069261\n",
       "8    Loan_Amount_Term    0.048020\n",
       "2          Dependents    0.042551\n",
       "1             Married    0.035760\n",
       "3           Education    0.020536\n",
       "4       Self_Employed    0.017268\n",
       "0              Gender    0.001873"
      ]
     },
     "execution_count": 96,
     "metadata": {},
     "output_type": "execute_result"
    }
   ],
   "source": [
    "feature_imporatne"
   ]
  },
  {
   "cell_type": "code",
   "execution_count": 97,
   "metadata": {},
   "outputs": [
    {
     "data": {
      "text/plain": [
       "array([0, 0, 1, 1, 1, 0, 1, 1, 0, 1, 0, 1, 0, 1, 1, 1, 1, 1, 1, 1, 0, 1,\n",
       "       1, 1, 1, 1, 1, 0, 1, 0, 0, 0, 1, 0, 1, 1, 1, 1, 1, 1, 1, 1, 0, 0,\n",
       "       0, 1, 1, 1, 1, 0, 0, 1, 1, 1, 1, 1, 1, 1, 1, 1, 1, 0, 0, 1, 1, 1,\n",
       "       1, 0, 1, 1, 1, 0, 1, 1, 1, 0, 1, 1, 0, 0, 1, 1, 1, 1, 1, 1, 1, 0,\n",
       "       1, 1, 0, 1, 0, 0, 0, 0, 0, 1, 1, 1, 1, 1, 0, 1, 1, 1, 1, 1, 1, 1,\n",
       "       1, 1, 1, 1, 1, 0, 1, 1, 1, 1, 1, 1, 1, 0, 0, 0, 1, 1, 0, 0, 1, 0,\n",
       "       1, 0, 1, 1, 1, 1, 1, 0, 1, 0, 1, 1, 0, 1, 1, 1, 1, 0, 0, 1, 1, 1,\n",
       "       0, 1, 0, 1, 1, 1, 0, 0, 1, 0, 0, 1, 0, 1, 0, 1, 0, 1, 1, 1, 1, 1,\n",
       "       0, 1, 1, 0, 0, 1, 0, 1, 0, 1, 0, 1, 1, 1, 1, 1, 0, 1, 1, 1, 1])"
      ]
     },
     "execution_count": 97,
     "metadata": {},
     "output_type": "execute_result"
    }
   ],
   "source": [
    "pred_dt = dt.predict(cr_x_test)\n",
    "pred_dt"
   ]
  },
  {
   "cell_type": "code",
   "execution_count": 98,
   "metadata": {},
   "outputs": [
    {
     "data": {
      "text/plain": [
       "array([[ 22,  39],\n",
       "       [ 25, 111]])"
      ]
     },
     "execution_count": 98,
     "metadata": {},
     "output_type": "execute_result"
    }
   ],
   "source": [
    "tab2 = confusion_matrix(pred_dt, cr_y_test)\n",
    "tab2"
   ]
  },
  {
   "cell_type": "code",
   "execution_count": 99,
   "metadata": {},
   "outputs": [
    {
     "data": {
      "text/plain": [
       "67.51269035532995"
      ]
     },
     "execution_count": 99,
     "metadata": {},
     "output_type": "execute_result"
    }
   ],
   "source": [
    "tab2.diagonal().sum()/tab2.sum()*100"
   ]
  },
  {
   "cell_type": "code",
   "execution_count": 101,
   "metadata": {},
   "outputs": [],
   "source": [
    "from sklearn.ensemble import RandomForestClassifier"
   ]
  },
  {
   "cell_type": "code",
   "execution_count": 102,
   "metadata": {},
   "outputs": [
    {
     "data": {
      "text/plain": [
       "array([0, 1, 0, 1, 1, 1, 0, 1, 1, 1, 0, 1, 0, 1, 1, 1, 1, 1, 1, 1, 1, 1,\n",
       "       1, 1, 1, 0, 1, 0, 1, 1, 0, 0, 1, 0, 1, 1, 1, 1, 1, 1, 1, 1, 1, 1,\n",
       "       0, 1, 1, 1, 1, 0, 1, 1, 1, 1, 1, 0, 1, 1, 1, 1, 1, 1, 0, 0, 1, 1,\n",
       "       1, 0, 1, 1, 1, 1, 1, 1, 1, 0, 1, 1, 1, 1, 1, 1, 1, 1, 1, 1, 1, 1,\n",
       "       1, 1, 1, 1, 1, 1, 0, 0, 0, 1, 1, 1, 1, 1, 1, 1, 1, 1, 1, 1, 1, 1,\n",
       "       1, 0, 1, 0, 1, 0, 1, 1, 1, 1, 1, 1, 1, 0, 1, 0, 1, 1, 1, 0, 1, 1,\n",
       "       1, 1, 1, 1, 0, 1, 1, 1, 1, 1, 1, 0, 1, 1, 1, 1, 1, 1, 0, 1, 1, 1,\n",
       "       1, 1, 0, 1, 1, 1, 0, 0, 1, 1, 1, 1, 1, 1, 1, 1, 0, 1, 1, 1, 1, 1,\n",
       "       1, 1, 1, 0, 0, 1, 1, 0, 1, 1, 1, 1, 1, 1, 1, 1, 1, 1, 1, 1, 1])"
      ]
     },
     "execution_count": 102,
     "metadata": {},
     "output_type": "execute_result"
    }
   ],
   "source": [
    "rfc = RandomForestClassifier(n_estimators =100, class_weight = 'balanced')\n",
    "rfc.fit(cr_x_train, cr_y_train)\n",
    "pred_rf = rfc.predict(cr_x_test)\n",
    "pred_rf"
   ]
  },
  {
   "cell_type": "code",
   "execution_count": 103,
   "metadata": {},
   "outputs": [
    {
     "data": {
      "text/plain": [
       "array([[ 18,  18],\n",
       "       [ 29, 132]])"
      ]
     },
     "execution_count": 103,
     "metadata": {},
     "output_type": "execute_result"
    }
   ],
   "source": [
    "tab3 = confusion_matrix(pred_rf, cr_y_test)\n",
    "tab3"
   ]
  },
  {
   "cell_type": "code",
   "execution_count": 104,
   "metadata": {},
   "outputs": [
    {
     "data": {
      "text/plain": [
       "array([0.01701914, 0.02485513, 0.04443172, 0.02327612, 0.01836764,\n",
       "       0.20431609, 0.11345958, 0.18004811, 0.04960011, 0.26518444,\n",
       "       0.05944192])"
      ]
     },
     "execution_count": 104,
     "metadata": {},
     "output_type": "execute_result"
    }
   ],
   "source": [
    "rfc.feature_importances_"
   ]
  },
  {
   "cell_type": "code",
   "execution_count": 105,
   "metadata": {},
   "outputs": [],
   "source": [
    "from sklearn.ensemble import AdaBoostClassifier"
   ]
  },
  {
   "cell_type": "code",
   "execution_count": 106,
   "metadata": {},
   "outputs": [],
   "source": [
    "abc = AdaBoostClassifier()"
   ]
  },
  {
   "cell_type": "code",
   "execution_count": 107,
   "metadata": {},
   "outputs": [
    {
     "data": {
      "text/plain": [
       "AdaBoostClassifier()"
      ]
     },
     "execution_count": 107,
     "metadata": {},
     "output_type": "execute_result"
    }
   ],
   "source": [
    "abc.fit(cr_x_train, cr_y_train)"
   ]
  },
  {
   "cell_type": "code",
   "execution_count": 108,
   "metadata": {},
   "outputs": [],
   "source": [
    "pred_ada = abc.predict(cr_x_test)"
   ]
  },
  {
   "cell_type": "code",
   "execution_count": 109,
   "metadata": {},
   "outputs": [
    {
     "data": {
      "text/plain": [
       "array([[ 19,  19],\n",
       "       [ 28, 131]])"
      ]
     },
     "execution_count": 109,
     "metadata": {},
     "output_type": "execute_result"
    }
   ],
   "source": [
    "tab4 = confusion_matrix(pred_ada, cr_y_test)\n",
    "tab4"
   ]
  },
  {
   "cell_type": "code",
   "execution_count": 110,
   "metadata": {},
   "outputs": [],
   "source": [
    "ctg = pd.read_csv('CTG.csv')"
   ]
  },
  {
   "cell_type": "code",
   "execution_count": 111,
   "metadata": {},
   "outputs": [],
   "source": [
    "ctg_x = ctg.iloc[:, 0:3]"
   ]
  },
  {
   "cell_type": "code",
   "execution_count": 112,
   "metadata": {},
   "outputs": [],
   "source": [
    "ctg_y = ctg.iloc[: , 3]"
   ]
  },
  {
   "cell_type": "code",
   "execution_count": 113,
   "metadata": {},
   "outputs": [],
   "source": [
    "from sklearn.model_selection import train_test_split"
   ]
  },
  {
   "cell_type": "code",
   "execution_count": 114,
   "metadata": {},
   "outputs": [],
   "source": [
    "ctg_x_train, ctg_x_test, ctg_y_train, ctg_y_test = train_test_split(ctg_x, ctg_y, test_size = .2, random_state = 501)"
   ]
  },
  {
   "cell_type": "code",
   "execution_count": 115,
   "metadata": {},
   "outputs": [],
   "source": [
    "from sklearn.tree import DecisionTreeClassifier"
   ]
  },
  {
   "cell_type": "code",
   "execution_count": 116,
   "metadata": {},
   "outputs": [],
   "source": [
    "dt = DecisionTreeClassifier(class_weight = 'balanced')"
   ]
  },
  {
   "cell_type": "code",
   "execution_count": 117,
   "metadata": {},
   "outputs": [
    {
     "data": {
      "text/plain": [
       "DecisionTreeClassifier(class_weight='balanced')"
      ]
     },
     "execution_count": 117,
     "metadata": {},
     "output_type": "execute_result"
    }
   ],
   "source": [
    "dt.fit(ctg_x_train, ctg_y_train)"
   ]
  },
  {
   "cell_type": "code",
   "execution_count": 119,
   "metadata": {},
   "outputs": [],
   "source": [
    "pred = dt.predict(ctg_x_test)"
   ]
  },
  {
   "cell_type": "code",
   "execution_count": 120,
   "metadata": {},
   "outputs": [],
   "source": [
    "tab = confusion_matrix(pred, ctg_y_test)"
   ]
  },
  {
   "cell_type": "code",
   "execution_count": 121,
   "metadata": {},
   "outputs": [
    {
     "data": {
      "text/plain": [
       "array([[262,   8,   7],\n",
       "       [ 33,  41,   8],\n",
       "       [ 29,   8,  30]])"
      ]
     },
     "execution_count": 121,
     "metadata": {},
     "output_type": "execute_result"
    }
   ],
   "source": [
    "tab"
   ]
  },
  {
   "cell_type": "code",
   "execution_count": 124,
   "metadata": {},
   "outputs": [
    {
     "data": {
      "text/plain": [
       "DecisionTreeClassifier()"
      ]
     },
     "execution_count": 124,
     "metadata": {},
     "output_type": "execute_result"
    }
   ],
   "source": [
    "dt =DecisionTreeClassifier( )\n",
    "dt.fit(ctg_x_train, ctg_y_train)"
   ]
  },
  {
   "cell_type": "code",
   "execution_count": 125,
   "metadata": {},
   "outputs": [
    {
     "data": {
      "text/plain": [
       "array([[299,  27,  21],\n",
       "       [ 15,  27,   7],\n",
       "       [ 10,   3,  17]])"
      ]
     },
     "execution_count": 125,
     "metadata": {},
     "output_type": "execute_result"
    }
   ],
   "source": [
    "pred = dt.predict(ctg_x_test)\n",
    "tab = confusion_matrix(pred, ctg_y_test)\n",
    "tab"
   ]
  },
  {
   "cell_type": "code",
   "execution_count": 126,
   "metadata": {},
   "outputs": [],
   "source": [
    "from sklearn.metrics import classification_report\n"
   ]
  },
  {
   "cell_type": "code",
   "execution_count": 127,
   "metadata": {},
   "outputs": [
    {
     "name": "stdout",
     "output_type": "stream",
     "text": [
      "              precision    recall  f1-score   support\n",
      "\n",
      "           1       0.92      0.86      0.89       347\n",
      "           2       0.47      0.55      0.51        49\n",
      "           3       0.38      0.57      0.45        30\n",
      "\n",
      "    accuracy                           0.81       426\n",
      "   macro avg       0.59      0.66      0.62       426\n",
      "weighted avg       0.83      0.81      0.82       426\n",
      "\n"
     ]
    }
   ],
   "source": [
    "print(classification_report(pred, ctg_y_test))"
   ]
  },
  {
   "cell_type": "code",
   "execution_count": 128,
   "metadata": {},
   "outputs": [],
   "source": [
    "from sklearn.feature_selection import RFE"
   ]
  },
  {
   "cell_type": "code",
   "execution_count": 129,
   "metadata": {},
   "outputs": [],
   "source": [
    "rfc = DecisionTreeClassifier()"
   ]
  },
  {
   "cell_type": "code",
   "execution_count": 130,
   "metadata": {},
   "outputs": [
    {
     "name": "stderr",
     "output_type": "stream",
     "text": [
      "/Users/raghuladithya/opt/anaconda3/lib/python3.8/site-packages/sklearn/utils/validation.py:68: FutureWarning: Pass n_features_to_select=5 as keyword args. From version 0.25 passing these as positional arguments will result in an error\n",
      "  warnings.warn(\"Pass {} as keyword args. From version 0.25 \"\n"
     ]
    },
    {
     "data": {
      "text/plain": [
       "array([False, False,  True, False, False,  True,  True,  True, False,\n",
       "        True, False])"
      ]
     },
     "execution_count": 130,
     "metadata": {},
     "output_type": "execute_result"
    }
   ],
   "source": [
    "rfe_rfc = RFE(rfc, 5)\n",
    "rfe_rfc.fit(cr_x, cr_y)\n",
    "rfe_rfc.support_"
   ]
  },
  {
   "cell_type": "code",
   "execution_count": 131,
   "metadata": {},
   "outputs": [
    {
     "data": {
      "text/plain": [
       "Index(['Gender', 'Married', 'Dependents', 'Education', 'Self_Employed',\n",
       "       'ApplicantIncome', 'CoapplicantIncome', 'LoanAmount',\n",
       "       'Loan_Amount_Term', 'Credit_History', 'Property_Area'],\n",
       "      dtype='object')"
      ]
     },
     "execution_count": 131,
     "metadata": {},
     "output_type": "execute_result"
    }
   ],
   "source": [
    "cr_x.columns"
   ]
  },
  {
   "cell_type": "code",
   "execution_count": 134,
   "metadata": {},
   "outputs": [],
   "source": [
    "feat_impo = pd.DataFrame({'Feature_name' : cr_x.columns, \"Imporatance\": rfe_rfc.support_})"
   ]
  },
  {
   "cell_type": "code",
   "execution_count": 135,
   "metadata": {},
   "outputs": [
    {
     "data": {
      "text/html": [
       "<div>\n",
       "<style scoped>\n",
       "    .dataframe tbody tr th:only-of-type {\n",
       "        vertical-align: middle;\n",
       "    }\n",
       "\n",
       "    .dataframe tbody tr th {\n",
       "        vertical-align: top;\n",
       "    }\n",
       "\n",
       "    .dataframe thead th {\n",
       "        text-align: right;\n",
       "    }\n",
       "</style>\n",
       "<table border=\"1\" class=\"dataframe\">\n",
       "  <thead>\n",
       "    <tr style=\"text-align: right;\">\n",
       "      <th></th>\n",
       "      <th>Feature_name</th>\n",
       "      <th>Imporatance</th>\n",
       "    </tr>\n",
       "  </thead>\n",
       "  <tbody>\n",
       "    <tr>\n",
       "      <th>0</th>\n",
       "      <td>Gender</td>\n",
       "      <td>False</td>\n",
       "    </tr>\n",
       "    <tr>\n",
       "      <th>1</th>\n",
       "      <td>Married</td>\n",
       "      <td>False</td>\n",
       "    </tr>\n",
       "    <tr>\n",
       "      <th>2</th>\n",
       "      <td>Dependents</td>\n",
       "      <td>True</td>\n",
       "    </tr>\n",
       "    <tr>\n",
       "      <th>3</th>\n",
       "      <td>Education</td>\n",
       "      <td>False</td>\n",
       "    </tr>\n",
       "    <tr>\n",
       "      <th>4</th>\n",
       "      <td>Self_Employed</td>\n",
       "      <td>False</td>\n",
       "    </tr>\n",
       "    <tr>\n",
       "      <th>5</th>\n",
       "      <td>ApplicantIncome</td>\n",
       "      <td>True</td>\n",
       "    </tr>\n",
       "    <tr>\n",
       "      <th>6</th>\n",
       "      <td>CoapplicantIncome</td>\n",
       "      <td>True</td>\n",
       "    </tr>\n",
       "    <tr>\n",
       "      <th>7</th>\n",
       "      <td>LoanAmount</td>\n",
       "      <td>True</td>\n",
       "    </tr>\n",
       "    <tr>\n",
       "      <th>8</th>\n",
       "      <td>Loan_Amount_Term</td>\n",
       "      <td>False</td>\n",
       "    </tr>\n",
       "    <tr>\n",
       "      <th>9</th>\n",
       "      <td>Credit_History</td>\n",
       "      <td>True</td>\n",
       "    </tr>\n",
       "    <tr>\n",
       "      <th>10</th>\n",
       "      <td>Property_Area</td>\n",
       "      <td>False</td>\n",
       "    </tr>\n",
       "  </tbody>\n",
       "</table>\n",
       "</div>"
      ],
      "text/plain": [
       "         Feature_name  Imporatance\n",
       "0              Gender        False\n",
       "1             Married        False\n",
       "2          Dependents         True\n",
       "3           Education        False\n",
       "4       Self_Employed        False\n",
       "5     ApplicantIncome         True\n",
       "6   CoapplicantIncome         True\n",
       "7          LoanAmount         True\n",
       "8    Loan_Amount_Term        False\n",
       "9      Credit_History         True\n",
       "10      Property_Area        False"
      ]
     },
     "execution_count": 135,
     "metadata": {},
     "output_type": "execute_result"
    }
   ],
   "source": [
    "feat_impo"
   ]
  },
  {
   "cell_type": "code",
   "execution_count": 136,
   "metadata": {},
   "outputs": [
    {
     "data": {
      "text/plain": [
       "(725, 6)"
      ]
     },
     "execution_count": 136,
     "metadata": {},
     "output_type": "execute_result"
    }
   ],
   "source": [
    "lcn = pd.read_csv('LungCapData.csv')\n",
    "lcn.shape"
   ]
  },
  {
   "cell_type": "code",
   "execution_count": 137,
   "metadata": {},
   "outputs": [],
   "source": [
    "def remove_outliers(df,col,k=2):\n",
    "    mean = df[col].mean()\n",
    "    global df1\n",
    "    sd = df[col].std()\n",
    "    final_list = [x for x in df[col] if (x > mean - k * sd)]\n",
    "    final_list = [x for x in final_list if (x < mean + k * sd)]\n",
    "    df1 = df.loc[df[col].isin(final_list)]\n",
    "    print(df1,shape)\n",
    "    return df1"
   ]
  },
  {
   "cell_type": "code",
   "execution_count": 139,
   "metadata": {},
   "outputs": [
    {
     "data": {
      "text/plain": [
       "(695, 6)"
      ]
     },
     "execution_count": 139,
     "metadata": {},
     "output_type": "execute_result"
    }
   ],
   "source": [
    "df1.shape"
   ]
  },
  {
   "cell_type": "code",
   "execution_count": null,
   "metadata": {},
   "outputs": [],
   "source": []
  }
 ],
 "metadata": {
  "kernelspec": {
   "display_name": "Python 3",
   "language": "python",
   "name": "python3"
  },
  "language_info": {
   "codemirror_mode": {
    "name": "ipython",
    "version": 3
   },
   "file_extension": ".py",
   "mimetype": "text/x-python",
   "name": "python",
   "nbconvert_exporter": "python",
   "pygments_lexer": "ipython3",
   "version": "3.8.3"
  }
 },
 "nbformat": 4,
 "nbformat_minor": 4
}
